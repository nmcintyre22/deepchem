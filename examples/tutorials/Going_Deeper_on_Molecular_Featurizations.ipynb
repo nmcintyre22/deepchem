{
 "cells": [
  {
   "cell_type": "markdown",
   "metadata": {
    "colab_type": "text",
    "id": "tTuYGOlnh117"
   },
   "source": [
    "#  Going Deeper On Molecular Featurizations\n",
    "\n",
    "One of the most important steps of doing machine learning on molecular data is transforming the data into a form amenable to the application of learning algorithms. This process is broadly called \"featurization\" and involves turning a molecule into a vector or tensor of some sort. There are a number of different ways of doing that, and the choice of featurization is often dependent on the problem at hand. We have already seen two such methods: molecular fingerprints, and `ConvMol` objects for use with graph convolutions. In this tutorial we will look at some of the others.\n",
    "\n",
    "## Colab\n",
    "\n",
    "This tutorial and the rest in this sequence can be done in Google colab. If you'd like to open this notebook in colab, you can use the following link.\n",
    "\n",
    "[![Open In Colab](https://colab.research.google.com/assets/colab-badge.svg)](https://colab.research.google.com/github/deepchem/deepchem/blob/master/examples/tutorials/Going_Deeper_on_Molecular_Featurizations.ipynb)\n",
    "\n"
   ]
  },
  {
   "cell_type": "code",
   "execution_count": null,
   "metadata": {
    "colab": {
     "base_uri": "https://localhost:8080/",
     "height": 188
    },
    "colab_type": "code",
    "id": "D43MbibL_EK0",
    "outputId": "e7b205ae-9962-4089-d49a-6d0ebe4c8430"
   },
   "outputs": [],
   "source": [
    "!pip install --pre deepchem\n",
    "import deepchem\n",
    "deepchem.__version__"
   ]
  },
  {
   "cell_type": "markdown",
   "metadata": {
    "colab_type": "text",
    "id": "omxBgQVDh12B"
   },
   "source": [
    "## Featurizers\n",
    "\n",
    "In DeepChem, a method of featurizing a molecule (or any other sort of input) is defined by a `Featurizer` object.  There are three different ways of using featurizers.\n",
    "\n",
    "1. When using the MoleculeNet loader functions, you simply pass the name of the featurization method to use.  We have seen examples of this in earlier tutorials, such as `featurizer='ECFP'` or `featurizer='GraphConv'`.\n",
    "\n",
    "2. You also can create a Featurizer and directly apply it to molecules.  For example:"
   ]
  },
  {
   "cell_type": "code",
   "execution_count": 1,
   "metadata": {
    "colab": {},
    "colab_type": "code",
    "id": "Sp5Hbb4nh12C"
   },
   "outputs": [
    {
     "name": "stderr",
     "output_type": "stream",
     "text": [
      "Skipped loading modules with pytorch-geometric dependency, missing a dependency. No module named 'torch_geometric'\n",
      "Skipped loading modules with pytorch-geometric dependency, missing a dependency. cannot import name 'DMPNN' from 'deepchem.models.torch_models' (C:\\Users\\cex\\anaconda3\\lib\\site-packages\\deepchem\\models\\torch_models\\__init__.py)\n",
      "Skipped loading modules with pytorch-lightning dependency, missing a dependency. No module named 'pytorch_lightning'\n",
      "Skipped loading some Jax models, missing a dependency. jax requires jaxlib to be installed. See https://github.com/google/jax#installation for installation instructions.\n"
     ]
    },
    {
     "name": "stdout",
     "output_type": "stream",
     "text": [
      "[[0. 0. 0. ... 0. 0. 0.]\n",
      " [0. 0. 0. ... 0. 0. 0.]\n",
      " [0. 0. 0. ... 0. 0. 0.]]\n"
     ]
    }
   ],
   "source": [
    "import deepchem as dc\n",
    "\n",
    "featurizer = dc.feat.CircularFingerprint()\n",
    "print(featurizer(['CC', 'CCC', 'CCO']))"
   ]
  },
  {
   "cell_type": "code",
   "execution_count": 7,
   "metadata": {},
   "outputs": [
    {
     "name": "stdout",
     "output_type": "stream",
     "text": [
      "[[0. 0. 0. ... 0. 0. 0.]\n",
      " [0. 0. 0. ... 0. 0. 0.]\n",
      " [0. 0. 0. ... 0. 0. 0.]]\n"
     ]
    }
   ],
   "source": [
    "featurizer = dc.feat.CircularFingerprint()\n",
    "print(featurizer(['CN1C=NC2=C1C(=O)N(C(=O)N2C)C', 'CCC', 'CCO']))"
   ]
  },
  {
   "cell_type": "markdown",
   "metadata": {
    "colab_type": "text",
    "id": "_bC1mPM4h12F"
   },
   "source": [
    "3. When creating a new dataset with the DataLoader framework, you can specify a Featurizer to use for processing the data.  We will see this in a future tutorial.\n",
    "\n",
    "We use propane (CH<sub>3</sub>CH<sub>2</sub>CH<sub>3</sub>, represented by the SMILES string `'CCC'`) as a running example throughout this tutorial. Many of the featurization methods use conformers of the molecules. A conformer can be generated using the `ConformerGenerator` class in `deepchem.utils.conformers`. "
   ]
  },
  {
   "cell_type": "markdown",
   "metadata": {
    "colab_type": "text",
    "id": "4D9z0slLh12G"
   },
   "source": [
    "### RDKitDescriptors"
   ]
  },
  {
   "cell_type": "code",
   "execution_count": 10,
   "metadata": {},
   "outputs": [],
   "source": [
    "import rdkit"
   ]
  },
  {
   "cell_type": "markdown",
   "metadata": {
    "colab_type": "text",
    "id": "oCfATWYIh12H"
   },
   "source": [
    "`RDKitDescriptors` featurizes a molecule by using RDKit to compute values for a list of descriptors. These are basic physical and chemical properties: molecular weight, polar surface area, numbers of hydrogen bond donors and acceptors, etc. This is most useful for predicting things that depend on these high level properties rather than on detailed molecular structure.\n",
    "\n",
    "Intrinsic to the featurizer is a set of allowed descriptors, which can be accessed using `RDKitDescriptors.allowedDescriptors`. The featurizer uses the descriptors in `rdkit.Chem.Descriptors.descList`, checks if they are in the list of allowed descriptors, and computes the descriptor value for the molecule.\n",
    "\n",
    "Let's print the values of the first ten descriptors for propane."
   ]
  },
  {
   "cell_type": "code",
   "execution_count": 11,
   "metadata": {},
   "outputs": [
    {
     "ename": "NameError",
     "evalue": "name 'RDKitDescriptors' is not defined",
     "output_type": "error",
     "traceback": [
      "\u001b[1;31m---------------------------------------------------------------------------\u001b[0m",
      "\u001b[1;31mNameError\u001b[0m                                 Traceback (most recent call last)",
      "\u001b[1;32m<ipython-input-11-cc173915f63b>\u001b[0m in \u001b[0;36m<module>\u001b[1;34m\u001b[0m\n\u001b[1;32m----> 1\u001b[1;33m \u001b[0mRDKitDescriptors\u001b[0m\u001b[1;33m.\u001b[0m\u001b[0mallowedDescriptors\u001b[0m\u001b[1;33m\u001b[0m\u001b[1;33m\u001b[0m\u001b[0m\n\u001b[0m",
      "\u001b[1;31mNameError\u001b[0m: name 'RDKitDescriptors' is not defined"
     ]
    }
   ],
   "source": [
    "RDKitDescriptors.allowedDescriptors"
   ]
  },
  {
   "cell_type": "code",
   "execution_count": 15,
   "metadata": {
    "colab": {
     "base_uri": "https://localhost:8080/",
     "height": 1000
    },
    "colab_type": "code",
    "id": "3dt_vjtXh12N",
    "outputId": "c6f73232-0765-479c-93b0-ba18cbf6f33a"
   },
   "outputs": [
    {
     "name": "stdout",
     "output_type": "stream",
     "text": [
      "MaxAbsEStateIndex 11.672037037037038\n",
      "MaxEStateIndex 11.672037037037038\n",
      "MinAbsEStateIndex 0.31657407407407345\n",
      "MinEStateIndex -0.3599999999999992\n",
      "qed 0.5384628262372215\n",
      "MolWt 194.194\n",
      "HeavyAtomMolWt 184.11399999999998\n",
      "ExactMolWt 194.08037556\n",
      "NumValenceElectrons 74.0\n",
      "NumRadicalElectrons 0.0\n",
      "MaxPartialCharge 0.3317034326359889\n",
      "MinPartialCharge -0.3278634660994821\n",
      "MaxAbsPartialCharge 0.3317034326359889\n",
      "MinAbsPartialCharge 0.3278634660994821\n",
      "FpDensityMorgan1 1.1428571428571428\n",
      "FpDensityMorgan2 1.7857142857142858\n",
      "FpDensityMorgan3 2.4285714285714284\n",
      "BCUT2D_MWHI 16.161282315860735\n",
      "BCUT2D_MWLOW 10.48818798692214\n",
      "BCUT2D_CHGHI 2.110255216429423\n",
      "BCUT2D_CHGLO -2.02151749706659\n",
      "BCUT2D_LOGPHI 2.0118198978857027\n",
      "BCUT2D_LOGPLOW -2.369665405920737\n",
      "BCUT2D_MRHI 5.691604588780562\n",
      "BCUT2D_MRLOW 0.7054356050886157\n",
      "AvgIpc 2.53868764707295\n",
      "BalabanJ 3.221281081084589\n",
      "BertzCT 616.5285919942219\n",
      "Chi0 10.455665446700477\n",
      "Chi0n 8.182701232117186\n",
      "Chi0v 8.182701232117186\n",
      "Chi1 6.5365812602091875\n",
      "Chi1n 4.107927642957933\n",
      "Chi1v 4.107927642957933\n",
      "Chi2n 3.2334489655756187\n",
      "Chi2v 3.2334489655756187\n",
      "Chi3n 2.3165128954882372\n",
      "Chi3v 2.3165128954882372\n",
      "Chi4n 1.471179885323763\n",
      "Chi4v 1.471179885323763\n",
      "HallKierAlpha -1.8499999999999996\n",
      "Ipc 2.53868764707295\n",
      "Kappa1 8.73523326923911\n",
      "Kappa2 2.5679479011227926\n",
      "Kappa3 0.8757741627139433\n",
      "LabuteASA 79.02895701814933\n",
      "PEOE_VSA1 4.567099647791355\n",
      "PEOE_VSA10 0.0\n",
      "PEOE_VSA11 11.16387793838399\n",
      "PEOE_VSA12 0.0\n",
      "PEOE_VSA13 5.559266895052007\n",
      "PEOE_VSA14 5.689743398203474\n",
      "PEOE_VSA2 13.928736479654532\n",
      "PEOE_VSA3 9.77851570501903\n",
      "PEOE_VSA4 0.0\n",
      "PEOE_VSA5 0.0\n",
      "PEOE_VSA6 0.0\n",
      "PEOE_VSA7 0.0\n",
      "PEOE_VSA8 21.143015948031568\n",
      "PEOE_VSA9 6.3273200747645415\n",
      "SMR_VSA1 0.0\n",
      "SMR_VSA10 11.16387793838399\n",
      "SMR_VSA2 0.0\n",
      "SMR_VSA3 18.685277464321274\n",
      "SMR_VSA4 21.143015948031568\n",
      "SMR_VSA5 0.0\n",
      "SMR_VSA6 0.0\n",
      "SMR_VSA7 27.165404736163666\n",
      "SMR_VSA8 0.0\n",
      "SMR_VSA9 0.0\n",
      "SlogP_VSA1 11.24901029325548\n",
      "SlogP_VSA10 0.0\n",
      "SlogP_VSA11 0.0\n",
      "SlogP_VSA12 0.0\n",
      "SlogP_VSA2 18.685277464321274\n",
      "SlogP_VSA3 21.143015948031568\n",
      "SlogP_VSA4 0.0\n",
      "SlogP_VSA5 0.0\n",
      "SlogP_VSA6 15.916394442908185\n",
      "SlogP_VSA7 0.0\n",
      "SlogP_VSA8 11.16387793838399\n",
      "SlogP_VSA9 0.0\n",
      "TPSA 61.82\n",
      "EState_VSA1 0.0\n",
      "EState_VSA10 9.589074368143644\n",
      "EState_VSA11 0.0\n",
      "EState_VSA2 11.24901029325548\n",
      "EState_VSA3 11.16387793838399\n",
      "EState_VSA4 4.567099647791355\n",
      "EState_VSA5 17.942091705233086\n",
      "EState_VSA6 18.662443613145733\n",
      "EState_VSA7 0.0\n",
      "EState_VSA8 4.9839785209472085\n",
      "EState_VSA9 0.0\n",
      "VSA_EState1 4.039537037037038\n",
      "VSA_EState10 0.0\n",
      "VSA_EState2 27.15444822373394\n",
      "VSA_EState3 0.0\n",
      "VSA_EState4 0.1800925925925949\n",
      "VSA_EState5 0.0\n",
      "VSA_EState6 0.0\n",
      "VSA_EState7 1.5193518518518518\n",
      "VSA_EState8 0.0\n",
      "VSA_EState9 4.773236961451247\n",
      "FractionCSP3 0.375\n",
      "HeavyAtomCount 14.0\n",
      "NHOHCount 0.0\n",
      "NOCount 6.0\n",
      "NumAliphaticCarbocycles 0.0\n",
      "NumAliphaticHeterocycles 0.0\n",
      "NumAliphaticRings 0.0\n",
      "NumAromaticCarbocycles 0.0\n",
      "NumAromaticHeterocycles 2.0\n",
      "NumAromaticRings 2.0\n",
      "NumHAcceptors 6.0\n",
      "NumHDonors 0.0\n",
      "NumHeteroatoms 6.0\n",
      "NumRotatableBonds 0.0\n",
      "NumSaturatedCarbocycles 0.0\n",
      "NumSaturatedHeterocycles 0.0\n",
      "NumSaturatedRings 0.0\n",
      "RingCount 2.0\n",
      "MolLogP -1.0293\n",
      "MolMR 51.19600000000002\n",
      "fr_Al_COO 0.0\n",
      "fr_Al_OH 0.0\n",
      "fr_Al_OH_noTert 0.0\n",
      "fr_ArN 0.0\n",
      "fr_Ar_COO 0.0\n",
      "fr_Ar_N 4.0\n",
      "fr_Ar_NH 0.0\n",
      "fr_Ar_OH 0.0\n",
      "fr_COO 0.0\n",
      "fr_COO2 0.0\n",
      "fr_C_O 0.0\n",
      "fr_C_O_noCOO 0.0\n",
      "fr_C_S 0.0\n",
      "fr_HOCCN 0.0\n",
      "fr_Imine 0.0\n",
      "fr_NH0 4.0\n",
      "fr_NH1 0.0\n",
      "fr_NH2 0.0\n",
      "fr_N_O 0.0\n",
      "fr_Ndealkylation1 0.0\n",
      "fr_Ndealkylation2 0.0\n",
      "fr_Nhpyrrole 0.0\n",
      "fr_SH 0.0\n",
      "fr_aldehyde 0.0\n",
      "fr_alkyl_carbamate 0.0\n",
      "fr_alkyl_halide 0.0\n",
      "fr_allylic_oxid 0.0\n",
      "fr_amide 0.0\n",
      "fr_amidine 0.0\n",
      "fr_aniline 0.0\n",
      "fr_aryl_methyl 2.0\n",
      "fr_azide 0.0\n",
      "fr_azo 0.0\n",
      "fr_barbitur 0.0\n",
      "fr_benzene 0.0\n",
      "fr_benzodiazepine 0.0\n",
      "fr_bicyclic 1.0\n",
      "fr_diazo 0.0\n",
      "fr_dihydropyridine 0.0\n",
      "fr_epoxide 0.0\n",
      "fr_ester 0.0\n",
      "fr_ether 0.0\n",
      "fr_furan 0.0\n",
      "fr_guanido 0.0\n",
      "fr_halogen 0.0\n",
      "fr_hdrzine 0.0\n",
      "fr_hdrzone 0.0\n",
      "fr_imidazole 1.0\n",
      "fr_imide 0.0\n",
      "fr_isocyan 0.0\n",
      "fr_isothiocyan 0.0\n",
      "fr_ketone 0.0\n",
      "fr_ketone_Topliss 0.0\n",
      "fr_lactam 0.0\n",
      "fr_lactone 0.0\n",
      "fr_methoxy 0.0\n",
      "fr_morpholine 0.0\n",
      "fr_nitrile 0.0\n",
      "fr_nitro 0.0\n",
      "fr_nitro_arom 0.0\n",
      "fr_nitro_arom_nonortho 0.0\n",
      "fr_nitroso 0.0\n",
      "fr_oxazole 0.0\n",
      "fr_oxime 0.0\n",
      "fr_para_hydroxylation 0.0\n",
      "fr_phenol 0.0\n",
      "fr_phenol_noOrthoHbond 0.0\n",
      "fr_phos_acid 0.0\n",
      "fr_phos_ester 0.0\n",
      "fr_piperdine 0.0\n",
      "fr_piperzine 0.0\n",
      "fr_priamide 0.0\n",
      "fr_prisulfonamd 0.0\n",
      "fr_pyridine 0.0\n",
      "fr_quatN 0.0\n",
      "fr_sulfide 0.0\n",
      "fr_sulfonamd 0.0\n",
      "fr_sulfone 0.0\n",
      "fr_term_acetylene 0.0\n",
      "fr_tetrazole 0.0\n",
      "fr_thiazole 0.0\n",
      "fr_thiocyan 0.0\n",
      "fr_thiophene 0.0\n",
      "fr_unbrch_alkane 0.0\n",
      "fr_urea 0.0\n"
     ]
    }
   ],
   "source": [
    "rdkit_featurizer = dc.feat.RDKitDescriptors()\n",
    "features = rdkit_featurizer(['CN1C=NC2=C1C(=O)N(C(=O)N2C)C'])[0]\n",
    "for feature, descriptor in zip(features[:], rdkit_featurizer.descriptors):\n",
    "    print(descriptor, feature)"
   ]
  },
  {
   "cell_type": "markdown",
   "metadata": {},
   "source": [
    "Of course, there are many more descriptors than this."
   ]
  },
  {
   "cell_type": "code",
   "execution_count": 13,
   "metadata": {
    "colab": {
     "base_uri": "https://localhost:8080/",
     "height": 34
    },
    "colab_type": "code",
    "id": "KfyDpE81h12Q",
    "outputId": "46673131-c504-48ca-db35-5d689e218069"
   },
   "outputs": [
    {
     "name": "stdout",
     "output_type": "stream",
     "text": [
      "The number of descriptors present is:  209\n"
     ]
    }
   ],
   "source": [
    "print('The number of descriptors present is: ', len(features))"
   ]
  },
  {
   "cell_type": "markdown",
   "metadata": {
    "colab_type": "text",
    "id": "41RwzbTth12U"
   },
   "source": [
    "### WeaveFeaturizer and MolGraphConvFeaturizer\n",
    "\n",
    "We previously looked at graph convolutions, which use `ConvMolFeaturizer` to convert molecules into `ConvMol` objects.  Graph convolutions are a special case of a large class of architectures that represent molecules as graphs.  They work in similar ways but vary in the details.  For example, they may associate data vectors with the atoms, the bonds connecting them, or both.  They may use a variety of techniques to calculate new data vectors from those in the previous layer, and a variety of techniques to compute molecule level properties at the end.\n",
    "\n",
    "DeepChem supports lots of different graph based models.  Some of them require molecules to be featurized in slightly different ways.  Because of this, there are two other featurizers called `WeaveFeaturizer` and `MolGraphConvFeaturizer`.  They each convert molecules into a different type of Python object that is used by particular models.  When using any graph based model, just check the documentation to see what featurizer you need to use with it."
   ]
  },
  {
   "cell_type": "markdown",
   "metadata": {
    "colab_type": "text",
    "id": "SF3l5yJ4h12f"
   },
   "source": [
    "### CoulombMatrix\n",
    "\n",
    "All the models we have looked at so far consider only the intrinsic properties of a molecule: the list of atoms that compose it and the bonds connecting them.  When working with flexible molecules, you may also want to consider the different conformations the molecule can take on.  For example, when a drug molecule binds to a protein, the strength of the binding depends on specific interactions between pairs of atoms.  To predict binding strength, you probably want to consider a variety of possible conformations and use a model that takes them into account when making predictions.\n",
    "\n",
    "The Coulomb matrix is one popular featurization for molecular conformations.  Recall that the electrostatic Coulomb interaction between two charges is proportional to $q_1 q_2/r$ where $q_1$ and $q_2$ are the charges and $r$ is the distance between them.  For a molecule with $N$ atoms, the Coulomb matrix is a $N \\times N$ matrix where each element gives the strength of the electrostatic interaction between two atoms.  It contains information both about the charges on the atoms and the distances between them.  More information on the functional forms used can be found [here](https://journals.aps.org/prl/pdf/10.1103/PhysRevLett.108.058301).\n",
    "\n",
    "To apply this featurizer, we first need a set of conformations for the molecule.  We can use the `ConformerGenerator` class to do this.  It takes a RDKit molecule, generates a set of energy minimized conformers, and prunes the set to only include ones that are significantly different from each other.  Let's try running it for propane."
   ]
  },
  {
   "cell_type": "code",
   "execution_count": 25,
   "metadata": {
    "colab": {
     "base_uri": "https://localhost:8080/",
     "height": 34
    },
    "colab_type": "code",
    "id": "evLPEI6mh12g",
    "outputId": "c0895d51-a38d-494e-d161-31ce5c421fb3"
   },
   "outputs": [
    {
     "name": "stdout",
     "output_type": "stream",
     "text": [
      "Number of available conformers for propane:  1\n"
     ]
    }
   ],
   "source": [
    "from rdkit import Chem\n",
    "\n",
    "generator = dc.utils.ConformerGenerator(max_conformers=5)\n",
    "propane_mol = generator.generate_conformers(Chem.MolFromSmiles('CCC'))\n",
    "print(\"Number of available conformers for propane: \", len(propane_mol.GetConformers()))"
   ]
  },
  {
   "cell_type": "markdown",
   "metadata": {},
   "source": [
    "It only found a single conformer.  This shouldn't be surprising, since propane is a very small molecule with hardly any flexibility.  Let's try adding another carbon."
   ]
  },
  {
   "cell_type": "code",
   "execution_count": 19,
   "metadata": {},
   "outputs": [
    {
     "name": "stdout",
     "output_type": "stream",
     "text": [
      "Number of available conformers for butane:  3\n"
     ]
    }
   ],
   "source": [
    "butane_mol = generator.generate_conformers(Chem.MolFromSmiles('CCCC'))\n",
    "print(\"Number of available conformers for butane: \", len(butane_mol.GetConformers()))"
   ]
  },
  {
   "cell_type": "code",
   "execution_count": 20,
   "metadata": {},
   "outputs": [
    {
     "name": "stdout",
     "output_type": "stream",
     "text": [
      "Number of available conformers for caffeine:  1\n"
     ]
    }
   ],
   "source": [
    "caffeine_mol = generator.generate_conformers(Chem.MolFromSmiles('CN1C=NC2=C1C(=O)N(C(=O)N2C)C'))\n",
    "print(\"Number of available conformers for caffeine: \", len(caffeine_mol.GetConformers()))"
   ]
  },
  {
   "cell_type": "markdown",
   "metadata": {},
   "source": [
    "Now we can create a Coulomb matrix for our molecule."
   ]
  },
  {
   "cell_type": "code",
   "execution_count": 28,
   "metadata": {
    "colab": {
     "base_uri": "https://localhost:8080/",
     "height": 51
    },
    "colab_type": "code",
    "id": "pPIqy39Ih12i",
    "outputId": "ca7b18b3-cfa4-44e8-a907-cbffd4e65364"
   },
   "outputs": [
    {
     "name": "stderr",
     "output_type": "stream",
     "text": [
      "Failed to featurize datapoint 0, [H]c1nc2c(c(=O)n(C([H])([H])[H])c(=O)n2C([H])([H])[H])n1C([H])([H])[H]. Appending empty array\n",
      "Exception message: \n"
     ]
    },
    {
     "name": "stdout",
     "output_type": "stream",
     "text": [
      "[]\n"
     ]
    }
   ],
   "source": [
    "coulomb_mat = dc.feat.CoulombMatrix(max_atoms=20)\n",
    "features = coulomb_mat(caffeine_mol)\n",
    "print(features)"
   ]
  },
  {
   "cell_type": "markdown",
   "metadata": {
    "colab_type": "text",
    "id": "Uyq3Xk3sh12l"
   },
   "source": [
    "Notice that many elements are 0.  To combine multiple molecules in a batch we need all the Coulomb matrices to be the same size, even if the molecules have different numbers of atoms.  We specified `max_atoms=20`, so the returned matrix  has size (20, 20).  The molecule only has 11 atoms, so only an 11 by 11 submatrix is nonzero."
   ]
  },
  {
   "cell_type": "markdown",
   "metadata": {
    "colab_type": "text",
    "id": "P-sGs7W2h12p"
   },
   "source": [
    "### CoulombMatrixEig"
   ]
  },
  {
   "cell_type": "markdown",
   "metadata": {
    "colab_type": "text",
    "id": "9NTjtDUzh12p"
   },
   "source": [
    "An important feature of Coulomb matrices is that they are invariant to molecular rotation and translation, since the interatomic distances and atomic numbers do not change.  Respecting symmetries like this makes learning easier.  Rotating a molecule does not change its physical properties.  If the featurization does change, then the model is forced to learn that rotations are not important, but if the featurization is invariant then the model gets this property automatically.\n",
    "\n",
    "Coulomb matrices are not invariant under another important symmetry: permutations of the atoms' indices.  A molecule's physical properties do not depend on which atom we call \"atom 1\", but the Coulomb matrix does.  To deal with this, the `CoulumbMatrixEig` featurizer was introduced, which uses the eigenvalue spectrum of the Coulumb matrix and is invariant to random permutations of the atom's indices.  The disadvantage of this featurization is that it contains much less information ($N$ eigenvalues instead of an $N \\times N$ matrix), so models will be more limited in what they can learn.\n",
    "\n",
    "`CoulombMatrixEig` inherits from `CoulombMatrix` and featurizes a molecule by first computing the Coulomb matrices for different conformers of the molecule and then computing the eigenvalues for each Coulomb matrix. These eigenvalues are then padded to account for variation in number of atoms across molecules."
   ]
  },
  {
   "cell_type": "code",
   "execution_count": 29,
   "metadata": {
    "colab": {
     "base_uri": "https://localhost:8080/",
     "height": 51
    },
    "colab_type": "code",
    "id": "ga1-nNiWh12t",
    "outputId": "2df3163c-6808-49e6-dba8-282ddd7fa3c4"
   },
   "outputs": [
    {
     "name": "stdout",
     "output_type": "stream",
     "text": [
      "[[60.07620352 29.62963132 22.75497753  0.57137859  0.28781334  0.28548338\n",
      "   0.27558183  0.18163796  0.17460996  0.17059717  0.166401    0.\n",
      "   0.          0.          0.          0.          0.          0.\n",
      "   0.          0.        ]]\n"
     ]
    }
   ],
   "source": [
    "coulomb_mat_eig = dc.feat.CoulombMatrixEig(max_atoms=20)\n",
    "features = coulomb_mat_eig(propane_mol)\n",
    "print(features)"
   ]
  },
  {
   "cell_type": "markdown",
   "metadata": {
    "colab_type": "text",
    "id": "wssi6cBmh12z"
   },
   "source": [
    "# Congratulations! Time to join the Community!\n",
    "\n",
    "Congratulations on completing this tutorial notebook! If you enjoyed working through the tutorial, and want to continue working with DeepChem, we encourage you to finish the rest of the tutorials in this series. You can also help the DeepChem community in the following ways:\n",
    "\n",
    "## Star DeepChem on [GitHub](https://github.com/deepchem/deepchem)\n",
    "This helps build awareness of the DeepChem project and the tools for open source drug discovery that we're trying to build.\n",
    "\n",
    "## Join the DeepChem Gitter\n",
    "The DeepChem [Gitter](https://gitter.im/deepchem/Lobby) hosts a number of scientists, developers, and enthusiasts interested in deep learning for the life sciences. Join the conversation!"
   ]
  },
  {
   "cell_type": "markdown",
   "metadata": {
    "id": "pOBd6-YdQSvF"
   },
   "source": [
    "## Citing This Tutorial\n",
    "If you found this tutorial useful please consider citing it using the provided BibTeX. "
   ]
  },
  {
   "cell_type": "code",
   "execution_count": null,
   "metadata": {
    "id": "KZUk_9yIYw0c"
   },
   "outputs": [],
   "source": [
    "@manual{Intro7, \n",
    " title={Going Deeper on Molecular Featurizations}, \n",
    " organization={DeepChem},\n",
    " author={Ramsundar, Bharath}, \n",
    " howpublished = {\\url{https://github.com/deepchem/deepchem/blob/master/examples/tutorials/Going_Deeper_on_Molecular_Featurizations.ipynb}}, \n",
    " year={2021}, \n",
    "} "
   ]
  }
 ],
 "metadata": {
  "colab": {
   "name": "06_Going_Deeper_on_Molecular_Featurizations.ipynb",
   "provenance": []
  },
  "kernelspec": {
   "display_name": "Python 3",
   "language": "python",
   "name": "python3"
  },
  "language_info": {
   "codemirror_mode": {
    "name": "ipython",
    "version": 3
   },
   "file_extension": ".py",
   "mimetype": "text/x-python",
   "name": "python",
   "nbconvert_exporter": "python",
   "pygments_lexer": "ipython3",
   "version": "3.8.8"
  }
 },
 "nbformat": 4,
 "nbformat_minor": 1
}
